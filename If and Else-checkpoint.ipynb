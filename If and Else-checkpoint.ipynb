{
 "cells": [
  {
   "cell_type": "code",
   "execution_count": 2,
   "id": "4d05ed68",
   "metadata": {},
   "outputs": [],
   "source": [
    "age=20\n",
    "if age>20:\n",
    " print('You are too old!')"
   ]
  },
  {
   "cell_type": "code",
   "execution_count": 1,
   "id": "87a61307",
   "metadata": {},
   "outputs": [
    {
     "name": "stdout",
     "output_type": "stream",
     "text": [
      "You are too old\n"
     ]
    }
   ],
   "source": [
    "age=21\n",
    "if age>20:\n",
    " print('You are too old')"
   ]
  },
  {
   "cell_type": "code",
   "execution_count": null,
   "id": "ab2745d1",
   "metadata": {},
   "outputs": [],
   "source": []
  }
 ],
 "metadata": {
  "kernelspec": {
   "display_name": "Python 3 (ipykernel)",
   "language": "python",
   "name": "python3"
  },
  "language_info": {
   "codemirror_mode": {
    "name": "ipython",
    "version": 3
   },
   "file_extension": ".py",
   "mimetype": "text/x-python",
   "name": "python",
   "nbconvert_exporter": "python",
   "pygments_lexer": "ipython3",
   "version": "3.9.7"
  }
 },
 "nbformat": 4,
 "nbformat_minor": 5
}
